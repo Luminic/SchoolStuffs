{
 "metadata": {
  "language_info": {
   "codemirror_mode": {
    "name": "ipython",
    "version": 3
   },
   "file_extension": ".py",
   "mimetype": "text/x-python",
   "name": "python",
   "nbconvert_exporter": "python",
   "pygments_lexer": "ipython3",
   "version": "3.8.6-final"
  },
  "orig_nbformat": 2,
  "kernelspec": {
   "name": "Python 3.8.6 64-bit",
   "display_name": "Python 3.8.6 64-bit",
   "metadata": {
    "interpreter": {
     "hash": "767d51c1340bd893661ea55ea3124f6de3c7a262a8b4abca0554b478b1e2ff90"
    }
   }
  }
 },
 "nbformat": 4,
 "nbformat_minor": 2,
 "cells": [
  {
   "cell_type": "code",
   "execution_count": 1,
   "metadata": {},
   "outputs": [],
   "source": [
    "from EulersMethod import *\n",
    "import decimal\n",
    "D = decimal.Decimal"
   ]
  },
  {
   "cell_type": "code",
   "execution_count": 2,
   "metadata": {},
   "outputs": [
    {
     "output_type": "stream",
     "name": "stdout",
     "text": [
      "0 | 1\n0.1 | 1.2\n0.2 | 1.42\n0.3 | 1.662\n0.4 | 1.9282\n0.5 | 2.22102\n"
     ]
    }
   ],
   "source": [
    "f = lambda x,y: y+1\n",
    "res = eulers_method(f, h='0.1', x_n=0, y_n=1, iterations=5, table=True, n_type=D)\n",
    "for v in res:\n",
    "    print(v[0], '|', v[1])"
   ]
  },
  {
   "cell_type": "code",
   "execution_count": 3,
   "metadata": {},
   "outputs": [
    {
     "output_type": "stream",
     "name": "stdout",
     "text": [
      " x   | u       | y       | actual \n-----+---------+---------+--------\n 0   | 0       | 1       | 1      \n 0.1 | 1.2     | 1.21    | 1.21034\n 0.2 | 1.431   | 1.44205 | 1.44280\n 0.3 | 1.68625 | 1.69846 | 1.69971\n 0.4 | 1.96831 | 1.98180 | 1.98364\n 0.5 | 2.27998 | 2.29489 | 2.29744\n"
     ]
    }
   ],
   "source": [
    "f = lambda x,y: y+1\n",
    "res = improved_eulers_method(f, h='0.1', x_n=0, y_n=1, iterations=5, table=True, return_u=True, n_type=D)\n",
    "\n",
    "for i, row in enumerate(res):\n",
    "    res[i] = row + [D(2) * D(row[0]).exp() - D(1)]\n",
    "\n",
    "print_table(res, headers=('x','u','y','actual'), truncate=7)"
   ]
  },
  {
   "cell_type": "code",
   "execution_count": null,
   "metadata": {},
   "outputs": [],
   "source": []
  }
 ]
}