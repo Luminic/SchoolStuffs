{
 "metadata": {
  "language_info": {
   "codemirror_mode": {
    "name": "ipython",
    "version": 3
   },
   "file_extension": ".py",
   "mimetype": "text/x-python",
   "name": "python",
   "nbconvert_exporter": "python",
   "pygments_lexer": "ipython3",
   "version": "3.9.4"
  },
  "orig_nbformat": 2,
  "kernelspec": {
   "name": "python38364bit92426f0431d04e3a965ee09a08f8f37f",
   "display_name": "Python 3.9.4 64-bit"
  },
  "metadata": {
   "interpreter": {
    "hash": "767d51c1340bd893661ea55ea3124f6de3c7a262a8b4abca0554b478b1e2ff90"
   }
  }
 },
 "nbformat": 4,
 "nbformat_minor": 2,
 "cells": [
  {
   "cell_type": "code",
   "execution_count": 1,
   "metadata": {},
   "outputs": [],
   "source": [
    "import os\n",
    "import sys\n",
    "# Note: you might have to change the path to where you put the linear_alg.py source file\n",
    "sys.path.append(os.getcwd() + \"/LinearAlg\")"
   ]
  },
  {
   "cell_type": "code",
   "execution_count": 2,
   "metadata": {},
   "outputs": [],
   "source": [
    "from linear_alg import *"
   ]
  },
  {
   "cell_type": "code",
   "execution_count": 3,
   "metadata": {
    "tags": []
   },
   "outputs": [
    {
     "output_type": "stream",
     "name": "stdout",
     "text": [
      "A: Matrix 3x4:\n 1,   2,   3,   4,  \n 5,   6,   7,   8,  \n 9,   10,  11,  12, \n\nA in echelon form: Matrix 3x4:\n 1.0,         1.11111111,  1.22222222,  1.33333333, \n 0.0,         1.0,         2.0,         3.0,        \n 0.0,         0.0,         0.0,         0.0,        \n\nA in reduced echelon form: Matrix 3x4:\n 1.0,  0.0, -1.0, -2.0, \n 0.0,  1.0,  2.0,  3.0, \n 0.0,  0.0,  0.0,  0.0, \n\nB: Matrix 2x3:\n 1/2,  3,    5/6, \n 2/3,  4/5,  2/5, \n\nB in echelon form: Matrix 2x3:\n 1,    6/5,  3/5, \n 0,    1,    2/9, \n\nB in reduced echelon form: Matrix 2x3:\n 1,    0,    1/3, \n 0,    1,    2/9, \n"
     ]
    }
   ],
   "source": [
    "\"\"\"\n",
    "Example of row reducing matrices\n",
    "\"\"\"\n",
    "A = Mat([[1,2,3,4],[5,6,7,8],[9,10,11,12]])\n",
    "A.print(name=\"A\")\n",
    "print()\n",
    "A.to_echelon_form()\n",
    "A.round(8) # Get rid of ugly floating point errors\n",
    "A.print(name=\"A in echelon form\")\n",
    "print()\n",
    "A.to_reduced_echelon_form(already_echelon_form=True)\n",
    "A.round(8)\n",
    "A.print(name=\"A in reduced echelon form\")\n",
    "print()\n",
    "\n",
    "\"\"\"\n",
    "If you want to avoid precision errors, matrices and vectors (mostly) work with fractions\n",
    "\"\"\"\n",
    "from fractions import Fraction\n",
    "B = Mat([[Fraction(1,2),Fraction(3,1),Fraction(5,6)],[Fraction(2,3),Fraction(4,5),Fraction(2,5)]])\n",
    "B.print(name=\"B\")\n",
    "print()\n",
    "B.to_echelon_form()\n",
    "B.print(name=\"B in echelon form\")\n",
    "print()\n",
    "B.to_reduced_echelon_form(already_echelon_form=True)\n",
    "B.print(name=\"B in reduced echelon form\")"
   ]
  },
  {
   "cell_type": "code",
   "execution_count": 4,
   "metadata": {
    "tags": []
   },
   "outputs": [
    {
     "output_type": "stream",
     "name": "stdout",
     "text": [
      "A: Matrix 3x3:\n 5,  4,  6, \n 3,  1,  7, \n 3,  6,  7, \nDeterminant: -85\n\nA inverse: Matrix 3x3:\n 0.411764705882353,   -0.09411764705882354, -0.25882352941176473, \n 0.0,                 -0.2,                  0.2,                 \n-0.1764705882352941,   0.21176470588235294,  0.08235294117647057, \n"
     ]
    }
   ],
   "source": [
    "\"\"\"\n",
    "Finding matrix inverses\n",
    "\"\"\"\n",
    "A = Mat([[5,4,6],[3,1,7],[3,6,7]])\n",
    "A.print(name=\"A\")\n",
    "print(\"Determinant:\", A.determinant())\n",
    "print()\n",
    "\n",
    "A_inv = A.inverse()\n",
    "A_inv.print(name=\"A inverse\")"
   ]
  },
  {
   "cell_type": "code",
   "execution_count": 5,
   "metadata": {
    "tags": []
   },
   "outputs": [
    {
     "output_type": "stream",
     "name": "stdout",
     "text": [
      "A: Matrix 3x3:\n 1,  2,  3, \n 4,  5,  6, \n 7,  8,  9, \n\nA-λI: Matrix 3x3:\n (-1 * λ) + 1,  2,             3,            \n 4,             (-1 * λ) + 5,  6,            \n 7,             8,             (-1 * λ) + 9, \n\ncharacteristic_polynomial: (18 * λ) + (15 * λ^2) + (-1 * λ^3)\n"
     ]
    }
   ],
   "source": [
    "\"\"\"\n",
    "Example of finding eigenvalues\n",
    "\"\"\"\n",
    "A = Mat([[1,2,3],[4,5,6],[7,8,9]])\n",
    "A.print(name=\"A\")\n",
    "print()\n",
    "\n",
    "λ = Var(\"λ\")\n",
    "A_minus_lambda = A - λ*Mat.identity(3)\n",
    "A_minus_lambda.print(name=\"A-λI\")\n",
    "print()\n",
    "\n",
    "characteristic_polynomial = A_minus_lambda.determinant()\n",
    "print(\"characteristic_polynomial:\", characteristic_polynomial)\n",
    "\n",
    "# My equations class is still very rudimentary; currently, it can only do basic operations with polynomials"
   ]
  },
  {
   "cell_type": "code",
   "execution_count": 6,
   "metadata": {
    "tags": []
   },
   "outputs": [
    {
     "output_type": "stream",
     "name": "stdout",
     "text": [
      "ortho_basis:\n [Vector([1, 1, 1, 1]), Vector([-0.75, 0.25, 0.25, 0.25]), Vector([0.0, -0.6666666666666666, 0.33333333333333337, 0.33333333333333337])]\n\northonormal_basis:\n [Vector([0.5, 0.5, 0.5, 0.5]), Vector([-0.8660254037844388, 0.2886751345948129, 0.2886751345948129, 0.2886751345948129]), Vector([0, -0.8164965809277259, 0.408248290463863, 0.408248290463863])]\n"
     ]
    }
   ],
   "source": [
    "\"\"\"\n",
    "Example of normalizing a basis\n",
    "\"\"\"\n",
    "basis = [\n",
    "    Vec([1,1,1,1]),\n",
    "    Vec([0,1,1,1]),\n",
    "    Vec([0,0,1,1])\n",
    "]\n",
    "ortho_basis = orthogonalize(basis)\n",
    "orthonormal_basis = [v.normalize() for v in ortho_basis]\n",
    "print(\"ortho_basis:\\n\", ortho_basis)\n",
    "print(\"\\northonormal_basis:\\n\",orthonormal_basis)"
   ]
  },
  {
   "cell_type": "code",
   "execution_count": 7,
   "metadata": {
    "tags": []
   },
   "outputs": [
    {
     "output_type": "stream",
     "name": "stdout",
     "text": [
      "Matrix 6x6:\n 6,  -20, -1,   3,  -8,  -3,  \n 16,  7,  -10,  3,  -13,  7,  \n-4,   15, -9,   19,  15, -9,  \n 2,  -15,  13,  6,   17,  12, \n-10, -11, -7,  -16, -8,   1,  \n 0,  -19,  9,   1,  -19,  12, \nTrue x: [0.1180812463120422, -0.32896437311974613, 0.4845110614546759, -1.2675505189742398, 0.12442787080298326, -1.3316035481780275]\nfinal: [0.11776975400350566, -0.32893626688211464, 0.48413084041219184, -1.2671756829990133, 0.12443877450969237, -1.3311477587902991]\nnr_projections: 222\ntime: 0.0038309097290039062\n"
     ]
    }
   ],
   "source": [
    "import time\n",
    "import random\n",
    "\n",
    "def project(x, constants, b, damping=1):\n",
    "    # Project x onto the equation constants[0]*x + ... + constants[n]*x = b\n",
    "    return ((b-x.dot(constants)) / constants.dot(constants)) * constants * damping + x\n",
    "\n",
    "n = 6\n",
    "random.seed(12345)\n",
    "def rand():\n",
    "    return random.randrange(-20,20)\n",
    "\n",
    "m = []\n",
    "for i in range(n):\n",
    "    m.append([rand() for _ in range(n)])\n",
    "m = Mat(m)\n",
    "m.print()\n",
    "b = Vec([rand() for _ in range(n)])\n",
    "\n",
    "m_inv = m.inverse()\n",
    "x = m_inv*b\n",
    "print(\"True x:\", x)\n",
    "x = Vec([0]*n)\n",
    "i = 0\n",
    "EPSILON = 0.01\n",
    "nr_projections = 0\n",
    "t = time.time()\n",
    "while abs(m*x-b).magnitude() > EPSILON and nr_projections <= 10e5:\n",
    "    for i in range(len(m.rows)):\n",
    "        x = project(x, m.rows[i], b[i], damping=1)\n",
    "        nr_projections += 1\n",
    "# x.round(3)\n",
    "t = time.time()-t\n",
    "print(\"final:\", x)\n",
    "print(\"nr_projections:\", nr_projections)\n",
    "print(\"time:\", t)"
   ]
  },
  {
   "cell_type": "code",
   "execution_count": 8,
   "metadata": {
    "tags": []
   },
   "outputs": [
    {
     "output_type": "stream",
     "name": "stdout",
     "text": [
      "Matrix 4x3:\n 1,  1,  0, \n 2,  1,  1, \n 4,  1,  2, \n 5,  1,  3, \n[0, -1, 1]\n[0, -3, 2]\n[0, -4, 3]\n[0, 0, -1]\n[0, 0, -1]\nMatrix 4x3:\n 1,  1,  0, \n 0, -1,  1, \n 0,  0, -1, \n 0,  0, -1, \nMatrix 4x3:\n 1,    0.0,  0.0, \n 0,    1,    0.0, \n 0,    0,    1,   \n 0,    0.0,  0.0, \n"
     ]
    }
   ],
   "source": [
    "r1 = Vec([1,1,0])\n",
    "r2 = Vec([2,1,1])\n",
    "r3 = Vec([4,1,2])\n",
    "r4 = Vec([5,1,3])\n",
    "m = Mat([r1,r2,r3,r4])\n",
    "m.print()\n",
    "r2 -= 2*r1\n",
    "print(r2)\n",
    "r3 -= 4*r1\n",
    "print(r3)\n",
    "r4 -= 5*r1\n",
    "print(r4)\n",
    "r3 -= 3*r2\n",
    "print(r3)\n",
    "r4 -= 4*r2\n",
    "print(r4)\n",
    "Mat([r1,r2,r3,r4]).print()\n",
    "m.to_reduced_echelon_form()\n",
    "m.print()"
   ]
  },
  {
   "cell_type": "code",
   "execution_count": 9,
   "metadata": {
    "tags": []
   },
   "outputs": [
    {
     "output_type": "stream",
     "name": "stdout",
     "text": [
      "Matrix 4x2:\n 1,  1, \n 2,  1, \n 4,  1, \n 5,  1, \nMatrix 2x4:\n 1,  2,  4,  5, \n 1,  1,  1,  1, \nMatrix 2x2:\n 46,  12, \n 12,  4,  \n[25, 6]\n184\n"
     ]
    }
   ],
   "source": [
    "A = Mat([[1,1],[2,1],[4,1],[5,1]])\n",
    "b = Vec([0,1,2,3])\n",
    "A.print()\n",
    "A_t = A.transpose()\n",
    "A_t.print()\n",
    "(A_t*A).print()\n",
    "print(A_t*b)\n",
    "print(46*4)"
   ]
  },
  {
   "cell_type": "code",
   "execution_count": 10,
   "metadata": {},
   "outputs": [],
   "source": [
    "from fractions import Fraction"
   ]
  },
  {
   "cell_type": "code",
   "execution_count": 11,
   "metadata": {
    "tags": []
   },
   "outputs": [
    {
     "output_type": "stream",
     "name": "stdout",
     "text": [
      "7/10\n-3/5\n"
     ]
    }
   ],
   "source": [
    "print(Fraction(28,40))\n",
    "print(Fraction(-24,40))"
   ]
  },
  {
   "cell_type": "code",
   "execution_count": 12,
   "metadata": {
    "tags": []
   },
   "outputs": [
    {
     "output_type": "stream",
     "name": "stdout",
     "text": [
      "Matrix 2x2:\n 0.9871,  0.0027, \n 0.0129,  0.9973, \n1.0\n1.0\nMatrix 2x2:\n 0.9023,  0.0205, \n 0.0977,  0.9795, \n[0.130725, 0.869275]\nMatrix 2x2:\n (-1 * λ) + 0.9871,  0.0027,            \n 0.0129,             (-1 * λ) + 0.9973, \n(-1.9844 * λ) + (λ^2) + 0.9843999999999999\n(-1.9844 * λ) + (λ^2) + 0.9844\nMatrix 2x2:\n-0.012900000000000023,   0.0027,                \n 0.0129,                -0.0027000000000000357, \n[0.9843999999999999, -0.9843999999999999]\n[0.0027, 0.012899999999999998]\n"
     ]
    }
   ],
   "source": [
    "M = Mat([[0.9871,0.0027],[0.0129,0.9973]])\n",
    "M.print()\n",
    "print(0.9871+.0129)\n",
    "print(0.0027+0.9973)\n",
    "x0 = Vec([0.125, 0.875])\n",
    "m8 = (M*M*M*M*M*M*M*M)\n",
    "m8.round(4)\n",
    "m8.print()\n",
    "print(m8*x0)\n",
    "λ = Var(\"λ\")\n",
    "Mml = (M-λ*Mat.identity(2))\n",
    "Mml.print()\n",
    "print(Mml.determinant())\n",
    "print((λ-0.9844)*(λ-1))\n",
    "\n",
    "nm = M-Mat.identity(2)\n",
    "nm.print()\n",
    "\n",
    "v1 = Vec([1,-1])\n",
    "print(M*v1)\n",
    "v2 = Vec([0.0027,0.0129])\n",
    "print(M*v2)"
   ]
  },
  {
   "cell_type": "code",
   "execution_count": 13,
   "metadata": {
    "tags": []
   },
   "outputs": [
    {
     "output_type": "stream",
     "name": "stdout",
     "text": [
      "Matrix 2x3:\n 1,       0.0027,  0.125,  \n-1,       0.0129,  0.875,  \n[0, 0.0156, 1.0]\n[0, 1, 64.1025641025641]\n[1, 0.0, -0.04807692307692307]\nMatrix 2x3:\n 1,                    0.0,                 -0.04807692307692307, \n 0,                    1,                    64.1025641025641,    \nMatrix 2x3:\n 1,                    0.0,                 -0.04807692307692313, \n 0,                    1,                    64.1025641025641,    \n\n[0.12497702, 0.8750235399999999]\n"
     ]
    }
   ],
   "source": [
    "r1 = Vec([1,0.0027,0.125])\n",
    "r2 = Vec([-1,0.0129,0.875])\n",
    "m = Mat([r1,r2])\n",
    "m.print()\n",
    "r2 += r1\n",
    "print(r2)\n",
    "r2 /= 0.0156\n",
    "print(r2)\n",
    "r1 -= 0.0027*r2\n",
    "print(r1)\n",
    "Mat([r1,r2]).print()\n",
    "\n",
    "m.to_reduced_echelon_form()\n",
    "m.print()\n",
    "\n",
    "print()\n",
    "c1 = -0.0481\n",
    "c2 = 64.1026\n",
    "print(c1*v1+c2*v2)"
   ]
  },
  {
   "cell_type": "code",
   "execution_count": null,
   "metadata": {},
   "outputs": [],
   "source": []
  }
 ]
}