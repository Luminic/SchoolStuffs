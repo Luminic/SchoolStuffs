{
 "metadata": {
  "language_info": {
   "codemirror_mode": {
    "name": "ipython",
    "version": 3
   },
   "file_extension": ".py",
   "mimetype": "text/x-python",
   "name": "python",
   "nbconvert_exporter": "python",
   "pygments_lexer": "ipython3",
   "version": "3.8.6-final"
  },
  "orig_nbformat": 2,
  "kernelspec": {
   "name": "python38364bit92426f0431d04e3a965ee09a08f8f37f",
   "display_name": "Python 3.8.3 64-bit"
  }
 },
 "nbformat": 4,
 "nbformat_minor": 2,
 "cells": [
  {
   "cell_type": "code",
   "execution_count": 1,
   "metadata": {},
   "outputs": [],
   "source": [
    "import os\n",
    "import sys\n",
    "import random\n",
    "import time\n",
    "# Note: you might have to change the path to where you put the linear_alg.py source file\n",
    "sys.path.insert(1, \"/home/l/Python\")"
   ]
  },
  {
   "cell_type": "code",
   "execution_count": 2,
   "metadata": {},
   "outputs": [],
   "source": [
    "from linear_alg import *"
   ]
  },
  {
   "cell_type": "code",
   "execution_count": 30,
   "metadata": {
    "tags": []
   },
   "outputs": [
    {
     "output_type": "stream",
     "name": "stdout",
     "text": "A: Matrix 3x3:\n 6,  -20, -1,  \n 3,  -8,  -3,  \n 16,  7,  -10, \nb: [3, -13, 7] \n\nx by gaussian elim: [4.11015911872705, 0.7625458996328028, 6.410036719706242]\ncheck b: [2.999999999999999, -13.0, 6.999999999999986]\ntook 0.0016608238220214844 seconds\n\nx by line method: [4.109200010916376, 0.7626165505720162, 6.40868942547508]\ncheck b: [2.994179628582854, -12.999400648252239, 6.998621773915318]\n\ntook 9000 projections\nin 0.13457179069519043 seconds\n"
    }
   ],
   "source": [
    "import time\n",
    "import random\n",
    "\n",
    "def project(x, constants, b, damping=1):\n",
    "    # Project x onto the equation constants[0]*x + ... + constants[n]*x = b\n",
    "    return ((b-x.dot(constants)) / constants.dot(constants)) * constants * damping + x\n",
    "\n",
    "n = 3\n",
    "random.seed(12345)\n",
    "def rand():\n",
    "    return random.randrange(-20,20)\n",
    "\n",
    "A = []\n",
    "for i in range(n):\n",
    "    A.append([rand() for _ in range(n)])\n",
    "A = Mat(A)\n",
    "A.print(\"A\")\n",
    "b = Vec([rand() for _ in range(n)])\n",
    "print(\"b:\", b, '\\n')\n",
    "\n",
    "time_gaussian_elim = time.time()\n",
    "A_inv = A.inverse()\n",
    "x = A_inv*b\n",
    "time_gaussian_elim = time.time()-time_gaussian_elim\n",
    "print(\"x by gaussian elim:\", x)\n",
    "print(\"check b:\", A*x)\n",
    "print(f\"took {time_gaussian_elim} seconds\")\n",
    "\n",
    "# ==== Line Method ====\n",
    "time_line_method = time.time()\n",
    "\n",
    "x = Vec([0]*n)\n",
    "nr_projections = 0\n",
    "line_points = []\n",
    "\n",
    "iterations = 3000\n",
    "\n",
    "for i in range(iterations):\n",
    "    line_points.append(Vec([0]*n))\n",
    "    for j in range(n):\n",
    "        x = project(x, A.rows[j], b[j], damping=1)\n",
    "        line_points[-1] += x \n",
    "        nr_projections += 1\n",
    "    line_points[-1] /= len(A.rows)\n",
    "\n",
    "# for i in range(iterations-1):\n",
    "#     print(\"dir:\",(line_points[i]-line_points[i+1]).normalize())\n",
    "\n",
    "# d = (line_points[iterations-2]-line_points[iterations-1]).normalize()\n",
    "# x = line_points[iterations-1]\n",
    "\n",
    "\n",
    "# A*(x+nd) = b\n",
    "# nAd = b-Ax\n",
    "# b_minus_Ax = b - A*x\n",
    "# n = b_minus_Ax[0]/(A*d)[0]\n",
    "# print(\"b_minus_Ax:\", b_minus_Ax.normalize())\n",
    "# print(\"A*d\", (A*d).normalize())\n",
    "# res = x+n*d\n",
    "res = x\n",
    "\n",
    "time_line_method = time.time()-time_line_method\n",
    "\n",
    "# print()\n",
    "# print(\"ep0:\", line_points[0])\n",
    "# print(\"ep1:\", line_points[1])\n",
    "# print(\"direction:\", d)\n",
    "\n",
    "print()\n",
    "print(\"x by line method:\", res)\n",
    "print(\"check b:\", A*res)\n",
    "\n",
    "print()\n",
    "print(f\"took {nr_projections} projections\")\n",
    "print(f\"in {time_line_method} seconds\")"
   ]
  },
  {
   "cell_type": "code",
   "execution_count": 87,
   "metadata": {
    "tags": []
   },
   "outputs": [
    {
     "output_type": "stream",
     "name": "stdout",
     "text": "[-30, 4]\n[-60, 8]\n"
    }
   ],
   "source": [
    "tmp = Vec([5,3])\n",
    "print(A*tmp)\n",
    "tmp *= 2\n",
    "print(A*tmp)"
   ]
  },
  {
   "cell_type": "code",
   "execution_count": 93,
   "metadata": {},
   "outputs": [
    {
     "output_type": "execute_result",
     "data": {
      "text/plain": "Vector([-2.928814505692641, -11.524130690823434])"
     },
     "metadata": {},
     "execution_count": 93
    }
   ],
   "source": []
  },
  {
   "cell_type": "code",
   "execution_count": 5,
   "metadata": {},
   "outputs": [
    {
     "output_type": "stream",
     "name": "stdout",
     "text": [
      "Matrix 3x3:\n x,                                                 x * exp(x),                                        x^2 * exp(x),                                     \n 1,                                                 (x * exp(x)) + (exp(x)),                           (x^2 * exp(x)) + (2 * x * exp(x)),                \n 0,                                                 (x * exp(x)) + (2 * exp(x)),                       (x^2 * exp(x)) + (4 * x * exp(x)) + (2 * exp(x)), \n(exp(x)^2 * x^3) + (0 * exp(x)^2 * x^2) + (0 * exp(x)^2 * x)\n"
     ]
    }
   ],
   "source": [
    "expx = Var(\"exp(x)\")\n",
    "x = Var(\"x\")\n",
    "W_mat = Mat([[x, x*expx, x*x*expx], \\\n",
    "            [1, (x+1)*expx, (x*x + 2*x)*expx], \\\n",
    "            [0, (x+2)*expx, (x*x + 4*x + 2)*expx]])\n",
    "W_mat.print()\n",
    "print(W_mat.determinant())"
   ]
  }
 ]
}