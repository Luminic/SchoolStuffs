{
 "metadata": {
  "language_info": {
   "codemirror_mode": {
    "name": "ipython",
    "version": 3
   },
   "file_extension": ".py",
   "mimetype": "text/x-python",
   "name": "python",
   "nbconvert_exporter": "python",
   "pygments_lexer": "ipython3",
   "version": "3.9.4"
  },
  "orig_nbformat": 2,
  "kernelspec": {
   "name": "python394jvsc74a57bd04e1d9a8909477db77738c33245c29c7265277ef753467dede8cf3f814cde494e",
   "display_name": "Python 3.9.4 64-bit"
  },
  "metadata": {
   "interpreter": {
    "hash": "767d51c1340bd893661ea55ea3124f6de3c7a262a8b4abca0554b478b1e2ff90"
   }
  }
 },
 "nbformat": 4,
 "nbformat_minor": 2,
 "cells": [
  {
   "cell_type": "code",
   "execution_count": 1,
   "metadata": {},
   "outputs": [],
   "source": [
    "import os\n",
    "import sys"
   ]
  },
  {
   "cell_type": "code",
   "execution_count": 2,
   "metadata": {},
   "outputs": [
    {
     "output_type": "stream",
     "name": "stdout",
     "text": [
      "pygame 2.0.1 (SDL 2.0.14, Python 3.9.4)\nHello from the pygame community. https://www.pygame.org/contribute.html\n"
     ]
    }
   ],
   "source": [
    "# sys.path.append(os.getcwd() + \"/DiscreteStructures/GraphTheory\")\n",
    "from graph import *\n",
    "from graph_maker import *"
   ]
  },
  {
   "cell_type": "code",
   "execution_count": 3,
   "metadata": {},
   "outputs": [],
   "source": [
    "def vertex_namer(graph: Graph) -> str:\n",
    "    \"\"\"Gives a name to the nth vertex in a graph\"\"\"\n",
    "    n = len(graph.vertices)\n",
    "\n",
    "    letters = \"abcdef\"\n",
    "    if n < len(letters): return letters[n]\n",
    "    else: return str(n-len(letters)+1)"
   ]
  },
  {
   "cell_type": "code",
   "execution_count": 4,
   "metadata": {},
   "outputs": [],
   "source": [
    "gm = GraphMaker(vertex_namer=vertex_namer)"
   ]
  },
  {
   "cell_type": "code",
   "execution_count": 5,
   "metadata": {},
   "outputs": [],
   "source": [
    "# Set `quit_on_end=False` so `gm.mainloop(...)` can be called again to further edit/view the graph\n",
    "gm.mainloop(quit_on_end=False)"
   ]
  },
  {
   "cell_type": "code",
   "execution_count": 6,
   "metadata": {},
   "outputs": [
    {
     "output_type": "stream",
     "name": "stdout",
     "text": [
      "Matrix 3x3:\n 5462,  5461,  5461, \n 5461,  5462,  5461, \n 5461,  5461,  5462, \n"
     ]
    }
   ],
   "source": [
    "Adj = gm.graph.adjacency_matrix()\n",
    "w16 = Adj**14\n",
    "w16.print()"
   ]
  },
  {
   "cell_type": "code",
   "execution_count": 7,
   "metadata": {},
   "outputs": [],
   "source": [
    "# If we want to properly clean up we should call `pygame.quit()` at the very end\n",
    "# pygame.quit()"
   ]
  }
 ]
}