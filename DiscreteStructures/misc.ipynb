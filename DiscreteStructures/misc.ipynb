{
 "metadata": {
  "language_info": {
   "codemirror_mode": {
    "name": "ipython",
    "version": 3
   },
   "file_extension": ".py",
   "mimetype": "text/x-python",
   "name": "python",
   "nbconvert_exporter": "python",
   "pygments_lexer": "ipython3",
   "version": "3.9.2"
  },
  "orig_nbformat": 2,
  "kernelspec": {
   "name": "python38364bit92426f0431d04e3a965ee09a08f8f37f",
   "display_name": "Python 3.9.2 64-bit"
  },
  "metadata": {
   "interpreter": {
    "hash": "767d51c1340bd893661ea55ea3124f6de3c7a262a8b4abca0554b478b1e2ff90"
   }
  }
 },
 "nbformat": 4,
 "nbformat_minor": 2,
 "cells": [
  {
   "cell_type": "code",
   "execution_count": 4,
   "metadata": {},
   "outputs": [],
   "source": [
    "from helpful_functions import *\n",
    "from setsnstuff import *\n",
    "from propositional_logic import *\n",
    "from bitwise import *\n",
    "from relations import *\n",
    "from combinatorics import *\n",
    "import copy\n",
    "import math\n",
    "import timeit"
   ]
  },
  {
   "cell_type": "code",
   "execution_count": 4,
   "metadata": {},
   "outputs": [
    {
     "output_type": "stream",
     "name": "stdout",
     "text": [
      "Test(3)\n"
     ]
    }
   ],
   "source": [
    "class Test:\n",
    "    def __init__(self, x):\n",
    "        self.x = x\n",
    "\n",
    "    def __repr__(self):\n",
    "        return f\"Test({self.x})\"\n",
    "\n",
    "    def __add__(self,other):\n",
    "        return Test(self.x + other.x)\n",
    "\n",
    "a = Test(1)\n",
    "b = Test(2)\n",
    "a += b\n",
    "print(a)\n",
    "# print(a != b)"
   ]
  },
  {
   "cell_type": "code",
   "execution_count": 3,
   "metadata": {},
   "outputs": [
    {
     "output_type": "stream",
     "name": "stdout",
     "text": [
      "0.23622320128000007\n0.3221225472000001\n0\n"
     ]
    }
   ],
   "source": [
    "print(probability_exactly_m_of_n_events(11, 10, 0.8))\n",
    "print(probability_at_least_m_of_n_events(11, 10, 0.8))\n",
    "print(probability_at_least_m_of_n_events(0, 12, 0.2))"
   ]
  },
  {
   "cell_type": "code",
   "execution_count": 11,
   "metadata": {},
   "outputs": [
    {
     "output_type": "stream",
     "name": "stdout",
     "text": [
      "0 cs grads: 1.52587890625e-05\n1 cs grads: 0.0003662109375\n2 cs grads: 0.00384521484375\n3 cs grads: 0.0230712890625\n4 cs grads: 0.086517333984375\n5 cs grads: 0.2076416015625\n6 cs grads: 0.31146240234375\n7 cs grads: 0.2669677734375\n8 cs grads: 0.1001129150390625\n"
     ]
    }
   ],
   "source": [
    "# probability_at_least_m_of_n_events(30, 22, 0.5)\n",
    "for i in range(0, 8+1):\n",
    "    print(f\"{i} cs grads: {probability_exactly_m_of_n_events(8, i, 0.75)}\")"
   ]
  },
  {
   "cell_type": "code",
   "execution_count": 10,
   "metadata": {},
   "outputs": [
    {
     "output_type": "stream",
     "name": "stdout",
     "text": [
      "0.0001809954751131222\n0.013031674208144797\n0.20416289592760184\n0.2307692307692308\n"
     ]
    },
    {
     "output_type": "execute_result",
     "data": {
      "text/plain": [
       "1.0"
      ]
     },
     "metadata": {},
     "execution_count": 10
    }
   ],
   "source": [
    "p_3q = 4/52 * 3/51 * 2/50\n",
    "p_2q = 4/52 * 3/51 * 48/50 * choose(3,2)\n",
    "p_1q = 4/52 * 48/51 * 47/50 * choose(3,1)\n",
    "p_0q = 48/52 * 47/51 * 46/50\n",
    "ex = p_3q*3 + p_2q*2 + p_1q*1\n",
    "print(p_3q)\n",
    "print(p_2q)\n",
    "print(p_1q)\n",
    "print(ex)\n",
    "p_3q+p_2q+p_1q+p_0q"
   ]
  },
  {
   "cell_type": "code",
   "execution_count": 12,
   "metadata": {},
   "outputs": [
    {
     "output_type": "execute_result",
     "data": {
      "text/plain": [
       "2.222222222222222"
      ]
     },
     "metadata": {},
     "execution_count": 12
    }
   ],
   "source": [
    "r = 4\n",
    "g = 5\n",
    "t = r+g\n",
    "\n",
    "p_4r = 4/9 * 3/8 * 2/7 * 1/6 * 5/5 * choose(5,4)\n",
    "p_3r = 4/9 * 3/8 * 2/7 * 5/6 * 4/5 * choose(5,3)\n",
    "p_2r = 4/9 * 3/8 * 5/7 * 4/6 * 3/5 * choose(5,2)\n",
    "p_1r = 4/9 * 5/8 * 4/7 * 3/6 * 2/5 * choose(5,1)\n",
    "p_0r = 5/9 * 4/8 * 3/7 * 2/6 * 1/5 * choose(5,0)\n",
    "\n",
    "4*p_4r + 3*p_3r + 2*p_2r + 1*p_1r + 0*p_0r"
   ]
  },
  {
   "cell_type": "code",
   "execution_count": 43,
   "metadata": {},
   "outputs": [
    {
     "output_type": "stream",
     "name": "stdout",
     "text": [
      "stop 1: 1.0, current expectation: 1.0\nstop 2: 0.875, current expectation: 1.875\nstop 3: 0.578125, current expectation: 2.453125\nstop 4: 0.330078125, current expectation: 2.783203125\nstop 5: 0.176025390625, current expectation: 2.959228515625\nstop 6: 0.090850830078125, current expectation: 3.050079345703125\nstop 7: 0.046146392822265625, current expectation: 3.0962257385253906\nstop 8: 0.023254871368408203, current expectation: 3.119480609893799\nstop 9: 0.011673033237457275, current expectation: 3.131153643131256\nstop 10: 0.005847938358783722, current expectation: 3.13700158149004\nstop 11: 0.002926827408373356, current expectation: 3.139928408898413\nstop 12: 0.0014641286106780171, current expectation: 3.141392537509091\nstop 13: 0.0007322430756175891, current expectation: 3.142124780584709\nstop 14: 0.00036616623583540786, current expectation: 3.142490946820544\nstop 15: 0.0001830942931064783, current expectation: 3.1426740411136507\nstop 16: 9.154994043569786e-05, current expectation: 3.1427655910540864\nstop 17: 4.577566869912175e-05, current expectation: 3.1428113667227855\nstop 18: 2.288800897121135e-05, current expectation: 3.1428342547317567\nstop 19: 1.1444048141129315e-05, current expectation: 3.142845698779898\nstop 20: 5.722034984501079e-06, current expectation: 3.1428514208148823\nstop 21: 2.8610202207346447e-06, current expectation: 3.142854281835103\nstop 22: 1.4305107924883487e-06, current expectation: 3.1428557123458956\nstop 23: 7.152555667744309e-07, current expectation: 3.1428564276014623\nstop 24: 3.576278260197796e-07, current expectation: 3.1428567852292884\nstop 25: 1.7881392366803084e-07, current expectation: 3.142856964043212\nstop 26: 8.940696449855068e-08, current expectation: 3.1428570534501765\nstop 27: 4.4703482915409154e-08, current expectation: 3.1428570981536597\nstop 28: 2.235174156872688e-08, current expectation: 3.1428571205054014\nstop 29: 1.1175870895385742e-08, current expectation: 3.1428571316812723\nstop 30: 5.587935447692871e-09, current expectation: 3.142857137269208\nstop 31: 2.7939677238464355e-09, current expectation: 3.1428571400631755\nstop 32: 1.3969838619232178e-09, current expectation: 3.1428571414601594\nstop 33: 6.984919309616089e-10, current expectation: 3.1428571421586513\nstop 34: 3.4924596548080444e-10, current expectation: 3.1428571425078973\nstop 35: 1.7462298274040222e-10, current expectation: 3.1428571426825203\nstop 36: 8.731149137020111e-11, current expectation: 3.1428571427698317\nstop 37: 4.3655745685100555e-11, current expectation: 3.1428571428134875\nstop 38: 2.1827872842550278e-11, current expectation: 3.1428571428353154\nstop 39: 1.0913936421275139e-11, current expectation: 3.1428571428462293\nstop 40: 5.4569682106375694e-12, current expectation: 3.1428571428516863\nstop 41: 2.7284841053187847e-12, current expectation: 3.1428571428544148\nstop 42: 1.3642420526593924e-12, current expectation: 3.142857142855779\nstop 43: 6.821210263296962e-13, current expectation: 3.142857142856461\nstop 44: 3.410605131648481e-13, current expectation: 3.142857142856802\nstop 45: 1.7053025658242404e-13, current expectation: 3.1428571428569727\nstop 46: 8.526512829121202e-14, current expectation: 3.142857142857058\nstop 47: 4.263256414560601e-14, current expectation: 3.1428571428571006\nstop 48: 2.1316282072803006e-14, current expectation: 3.142857142857122\nstop 49: 1.0658141036401503e-14, current expectation: 3.1428571428571326\nstop 50: 5.329070518200751e-15, current expectation: 3.142857142857138\nstop 51: 2.6645352591003757e-15, current expectation: 3.1428571428571406\nstop 52: 1.3322676295501878e-15, current expectation: 3.142857142857142\nstop 53: 6.661338147750939e-16, current expectation: 3.1428571428571423\nstop 54: 3.3306690738754696e-16, current expectation: 3.142857142857143\nstop 55: 0.0, current expectation: 3.142857142857143\nstop 56: 0.0, current expectation: 3.142857142857143\nstop 57: 0.0, current expectation: 3.142857142857143\nstop 58: 0.0, current expectation: 3.142857142857143\nstop 59: 0.0, current expectation: 3.142857142857143\nstop 60: 0.0, current expectation: 3.142857142857143\nstop 61: 0.0, current expectation: 3.142857142857143\nstop 62: 0.0, current expectation: 3.142857142857143\nstop 63: 0.0, current expectation: 3.142857142857143\nstop 64: 0.0, current expectation: 3.142857142857143\nstop 65: 0.0, current expectation: 3.142857142857143\nstop 66: 0.0, current expectation: 3.142857142857143\nstop 67: 0.0, current expectation: 3.142857142857143\nstop 68: 0.0, current expectation: 3.142857142857143\nstop 69: 0.0, current expectation: 3.142857142857143\nstop 70: 0.0, current expectation: 3.142857142857143\nstop 71: 0.0, current expectation: 3.142857142857143\nstop 72: 0.0, current expectation: 3.142857142857143\nstop 73: 0.0, current expectation: 3.142857142857143\nstop 74: 0.0, current expectation: 3.142857142857143\nstop 75: 0.0, current expectation: 3.142857142857143\nstop 76: 0.0, current expectation: 3.142857142857143\nstop 77: 0.0, current expectation: 3.142857142857143\nstop 78: 0.0, current expectation: 3.142857142857143\nstop 79: 0.0, current expectation: 3.142857142857143\nstop 80: 0.0, current expectation: 3.142857142857143\nstop 81: 0.0, current expectation: 3.142857142857143\nstop 82: 0.0, current expectation: 3.142857142857143\nstop 83: 0.0, current expectation: 3.142857142857143\nstop 84: 0.0, current expectation: 3.142857142857143\nstop 85: 0.0, current expectation: 3.142857142857143\nstop 86: 0.0, current expectation: 3.142857142857143\nstop 87: 0.0, current expectation: 3.142857142857143\nstop 88: 0.0, current expectation: 3.142857142857143\nstop 89: 0.0, current expectation: 3.142857142857143\nstop 90: 0.0, current expectation: 3.142857142857143\nstop 91: 0.0, current expectation: 3.142857142857143\nstop 92: 0.0, current expectation: 3.142857142857143\nstop 93: 0.0, current expectation: 3.142857142857143\nstop 94: 0.0, current expectation: 3.142857142857143\nstop 95: 0.0, current expectation: 3.142857142857143\nstop 96: 0.0, current expectation: 3.142857142857143\nstop 97: 0.0, current expectation: 3.142857142857143\nstop 98: 0.0, current expectation: 3.142857142857143\nstop 99: 0.0, current expectation: 3.142857142857143\n3.142857142857143\n"
     ]
    }
   ],
   "source": [
    "# s1 = 0.5**3\n",
    "# s2 = p3+p2+p1\n",
    "# at stop n the probability there are 3, 2, or 1 shopper left is...\n",
    "# the probability a shopper will still be in the elevator at stop n is: (1/2)**(n-1)\n",
    "# the probability 3 shoppers will be on the stop will be (1/2)**(n-1)**3\n",
    "\n",
    "def prob_shopper_on_stop(n):\n",
    "    return (1/2)**(n-1)\n",
    "\n",
    "def prob_0_shoppers_on_stop(n):\n",
    "    psos = prob_shopper_on_stop(n)\n",
    "    return (1-psos)**3\n",
    "\n",
    "expected_stops = 0\n",
    "for stop_nr in range(1,100):\n",
    "    prob = (1-prob_0_shoppers_on_stop(stop_nr))\n",
    "    expected_stops += 1 * prob\n",
    "    print(f\"stop {stop_nr}: {prob}, current expectation: {expected_stops}\")\n",
    "print(expected_stops)"
   ]
  },
  {
   "cell_type": "code",
   "execution_count": 50,
   "metadata": {},
   "outputs": [
    {
     "output_type": "stream",
     "name": "stdout",
     "text": [
      "9995 6.000000000000002\n9996 6.000000000000002\n9997 6.000000000000002\n9998 6.000000000000002\n9999 6.000000000000002\ntotal 6.000000000000002\n"
     ]
    }
   ],
   "source": [
    "total = 0\n",
    "for n in range(1,10000):\n",
    "    p = n * (5/6)**(n-1) / 6\n",
    "    if n >= 9995:\n",
    "        print(n, total)\n",
    "    total += p\n",
    "print(\"total\", total)"
   ]
  },
  {
   "cell_type": "code",
   "execution_count": 101,
   "metadata": {},
   "outputs": [
    {
     "output_type": "stream",
     "name": "stdout",
     "text": [
      "3.186635545324933e-11\n2.5493084362599464e-10\n(9), 2.581174791713196e-09, 0.7901234567901234, 55, 1.1216957119543764e-07\n(10), 2.86797199079244e-10, 0.8888888888888888, 11, 2.8042392798859412e-09\n(11), 3.186635545324933e-11, 1.0, 1, 3.186635545324933e-11\n1.1500567683077683e-07\n"
     ]
    }
   ],
   "source": [
    "# probability of throwing a sum of 5 at least 9 times in 11 throws of a pair of fair die (d6)\n",
    "\n",
    "# probability I get 5 11/11 times\n",
    "p11 = (4/36)**11\n",
    "print(p11)\n",
    "# probability I get 5 10/11 times\n",
    "p10 = (4/36)**10 * (32/36)**1\n",
    "print(p10)\n",
    "\n",
    "total = 0\n",
    "for i in range(9, 11+1):\n",
    "    p1 = (4/36)**i\n",
    "    p2 = (32/36)**(11-i)\n",
    "    c = choose(11,i)\n",
    "    p = p1*p2*c\n",
    "    print(f\"({i}), {p1}, {p2}, {c}, {p}\")\n",
    "    total += p\n",
    "\n",
    "print(total)"
   ]
  },
  {
   "cell_type": "code",
   "execution_count": 105,
   "metadata": {},
   "outputs": [
    {
     "output_type": "stream",
     "name": "stdout",
     "text": [
      "40\n10240\n2598960\n0.003924646781789639\n"
     ]
    }
   ],
   "source": [
    "# A,2,3,4,5,6,7,8,9,10,J,Q,K,A\n",
    "# 1 2 3 4 5 6 7 8 9 10\n",
    "\n",
    "straight_flush = 40 # 4 suits * 10 starting cards * 1^9 for the other cards\n",
    "any_straight = 40 * (4**4)\n",
    "hand_possibilities = choose(52,5)\n",
    "print(straight_flush)\n",
    "print(any_straight)\n",
    "print(hand_possibilities)\n",
    "print((any_straight - straight_flush) / hand_possibilities)"
   ]
  },
  {
   "cell_type": "code",
   "execution_count": 83,
   "metadata": {},
   "outputs": [
    {
     "output_type": "stream",
     "name": "stdout",
     "text": [
      "2598960\n13\n0.0004951980792316927\n0.0004951980792316927\n"
     ]
    }
   ],
   "source": [
    "print(choose(52,5))\n",
    "print(52//4)\n",
    "print(13/52 * 12/51 * 11/50 * 10/49 * 9/48)\n",
    "print(r_combinations(13,5) / r_combinations(52,5))"
   ]
  },
  {
   "cell_type": "code",
   "execution_count": 55,
   "metadata": {},
   "outputs": [
    {
     "output_type": "stream",
     "name": "stdout",
     "text": [
      "0 14 1\n1 13 14\n2 12 91\n106\n16278\n"
     ]
    }
   ],
   "source": [
    "total = 0\n",
    "for i in range(0,2+1):\n",
    "    c = choose(14,i)\n",
    "    print(i, 14-i, c)\n",
    "    total += c\n",
    "print(total)\n",
    "print(2**14 - total)"
   ]
  },
  {
   "cell_type": "code",
   "execution_count": 64,
   "metadata": {},
   "outputs": [
    {
     "output_type": "stream",
     "name": "stdout",
     "text": [
      "(0): 62 / 87 = 0.7126436781609196\n(1): 61 / 86 = 0.7093023255813954\n(2): 60 / 85 = 0.7058823529411765\n(3): 59 / 84 = 0.7023809523809523\n(4): 58 / 83 = 0.6987951807228916\n(5): 57 / 82 = 0.6951219512195121\n(6): 56 / 81 = 0.691358024691358\n(7): 55 / 80 = 0.6875\n(8): 54 / 79 = 0.6835443037974683\n(9): 53 / 78 = 0.6794871794871795\n(10): 52 / 77 = 0.6753246753246753\n(11): 51 / 76 = 0.6710526315789473\n(12): 50 / 75 = 0.6666666666666666\ntotal prob: 0.008119351902664537, 1-tot: 0.9918806480973354\n0.008119351902664537\n"
     ]
    }
   ],
   "source": [
    "y = 25\n",
    "g = 30\n",
    "r = 32\n",
    "\n",
    "total_prob = 1\n",
    "for i in range(13):\n",
    "    prob = (g+r-i)/(y+g+r-i)\n",
    "    print(f\"({i}): {g+r-i} / {y+g+r-i} = {prob}\")\n",
    "    total_prob *= prob\n",
    "\n",
    "# 62/87 * 61/86 * 60/85\n",
    "# = (62!/(62-3)!) / (87!/(87-3)!)\n",
    "# = (87-3)! * 62! / ((62-3)! * 87!)\n",
    "\n",
    "print(f\"total prob: {total_prob}, 1-tot: {1-total_prob}\")\n",
    "print(math.factorial(87-13) * math.factorial(62) / (math.factorial(62-13) * math.factorial(87)))"
   ]
  },
  {
   "cell_type": "code",
   "execution_count": 76,
   "metadata": {},
   "outputs": [
    {
     "output_type": "stream",
     "name": "stdout",
     "text": [
      "choose_3_yellow: 2300\nchoose_9_green: 14307150\narrange_3_yellow: 286\nchoose_10_other: 107518933731\ntotal_selections: 1023269017336650\nnumerator: 247293547581300\nnumerator2: 1053006240000\nprob: 0.24167012133813268\nprob2: 0.0010290610017107229\n"
     ]
    }
   ],
   "source": [
    "y = 25\n",
    "g = 30\n",
    "r = 32\n",
    "\n",
    "choose_3_yellow = choose(y, 3)\n",
    "choose_10_other = choose(g+r, 10)\n",
    "choose_9_green = choose(g, 9)\n",
    "choose_1_other = choose(r, 1)\n",
    "total_selections = choose(y+g+r, 13)\n",
    "\n",
    "numerator = choose_3_yellow * choose_10_other\n",
    "numerator2 = choose_3_yellow * choose_9_green * choose_1_other\n",
    "\n",
    "prob = numerator / total_selections\n",
    "prob2 = numerator2 / total_selections\n",
    "\n",
    "# print(f\": {}\")\n",
    "print(f\"choose_3_yellow: {choose_3_yellow}\")\n",
    "print(f\"choose_9_green: {choose_9_green}\")\n",
    "print(f\"arrange_3_yellow: {arrange_3_yellow}\")\n",
    "print(f\"choose_10_other: {choose_10_other}\")\n",
    "print(f\"total_selections: {total_selections}\")\n",
    "print(f\"numerator: {numerator}\")\n",
    "print(f\"numerator2: {numerator2}\")\n",
    "print(f\"prob: {prob}\")\n",
    "print(f\"prob2: {prob2}\")"
   ]
  },
  {
   "cell_type": "code",
   "execution_count": 45,
   "metadata": {},
   "outputs": [
    {
     "output_type": "stream",
     "name": "stdout",
     "text": [
      "(1) 364 / 365 = 0.9972602739726028\n(2) 363 / 365 = 0.9945205479452055\n(3) 362 / 365 = 0.9917808219178083\n(4) 361 / 365 = 0.989041095890411\n(5) 360 / 365 = 0.9863013698630136\n(6) 359 / 365 = 0.9835616438356164\n(7) 358 / 365 = 0.9808219178082191\ntotal: 0.925664707648331\n1-total: 0.07433529235166902\n0.925664707648331\n0.925664707648331\n"
     ]
    }
   ],
   "source": [
    "total = 1\n",
    "for i in range(1, 8):\n",
    "    n = (365-i) / 365\n",
    "    print(f\"({i}) {(365-i)} / 365 = {n}\")\n",
    "    total *= n\n",
    "print(f\"total: {total}\")\n",
    "print(f\"1-total: {1-total}\")\n",
    "\n",
    "# 365/365 * 364/365 * ... * 358/365 = 365! / 357! / 365**8\n",
    "print(math.factorial(365) / math.factorial(357) / 365**8)\n",
    "print(r_combinations(365, 8) / 365**8)"
   ]
  },
  {
   "cell_type": "code",
   "execution_count": 93,
   "metadata": {},
   "outputs": [
    {
     "output_type": "stream",
     "name": "stdout",
     "text": [
      "0, 5, 1, 65780, 65780\n1, 4, 26, 14950, 388700\n2, 3, 325, 2600, 845000\n3, 2, 2600, 325, 845000\n4, 1, 14950, 26, 388700\n5, 0, 65780, 1, 65780\n2598960\n2598960\n1.0\n"
     ]
    }
   ],
   "source": [
    "total = 0\n",
    "for i in range(0,5+1):\n",
    "# for i in range(3, 5+1):\n",
    "    c = choose(52//2, i)\n",
    "    c_oth = choose(52//2, 5-i)\n",
    "    print(f\"{i}, {5-i}, {c}, {c_oth}, {c*c_oth}\")\n",
    "    total += c*c_oth\n",
    "\n",
    "print(total)\n",
    "print(choose(52,5))\n",
    "print(total / choose(52,5))"
   ]
  },
  {
   "cell_type": "code",
   "execution_count": 11,
   "metadata": {},
   "outputs": [],
   "source": [
    "def gen_WL_strings(N:int) -> list:\n",
    "    if N < 3: return []\n",
    "    \n",
    "    WL_strings = [\"LLL\"]\n",
    "    str_lens = 3\n",
    "    while str_lens < N:\n",
    "        for si in range(len(WL_strings)):\n",
    "            if WL_strings[si][:2] != \"LL\":\n",
    "                WL_strings.append(\"L\"+WL_strings[si])\n",
    "            WL_strings[si] = \"W\"+WL_strings[si]\n",
    "        str_lens += 1\n",
    "\n",
    "    return WL_strings"
   ]
  },
  {
   "cell_type": "code",
   "execution_count": 16,
   "metadata": {},
   "outputs": [
    {
     "output_type": "stream",
     "name": "stdout",
     "text": [
      "['WWWWLLL', 'WWLWLLL', 'WLWWLLL', 'WLLWLLL', 'LWWWLLL', 'LWLWLLL', 'LLWWLLL']\n3 1\n4 1\n5 2\n6 4\n7 7\n8 13\n9 24\n10 44\n11 81\n12 149\n"
     ]
    }
   ],
   "source": [
    "print(gen_WL_strings(7))\n",
    "for i in range(3,13):\n",
    "    print(i, len(gen_WL_strings(i)))"
   ]
  },
  {
   "cell_type": "code",
   "execution_count": 10,
   "metadata": {},
   "outputs": [
    {
     "output_type": "stream",
     "name": "stdout",
     "text": [
      "R trans? True\nS trans? True\nR U S trans? False\n"
     ]
    }
   ],
   "source": [
    "D = {1,2,3,4}\n",
    "R = {(1,2),(2,4),(1,4)}\n",
    "S = {(3,1),(4,3),(4,1)}\n",
    "print(f\"R trans? {is_transitive(R)}\")\n",
    "print(f\"S trans? {is_transitive(S)}\")\n",
    "print(f\"R U S trans? {is_transitive(R|S)}\")"
   ]
  },
  {
   "cell_type": "code",
   "execution_count": 7,
   "metadata": {},
   "outputs": [
    {
     "output_type": "stream",
     "name": "stdout",
     "text": [
      "R trans? True\nS trans? True\nR U S trans? False\n"
     ]
    }
   ],
   "source": [
    "D = {1,2,3,4}\n",
    "R = {(1,2),(2,1),(2,4),(4,2),(1,4),(4,1),(1,1),(2,2),(4,4)}\n",
    "S = {(1,3),(3,1),(3,4),(4,3),(1,4),(4,1),(1,1),(3,3),(4,4)}\n",
    "print(f\"R trans? {is_transitive(R)}\")\n",
    "print(f\"S trans? {is_transitive(S)}\")\n",
    "print(f\"R U S trans? {is_transitive(R|S)}\")"
   ]
  },
  {
   "cell_type": "code",
   "execution_count": 9,
   "metadata": {},
   "outputs": [
    {
     "output_type": "stream",
     "name": "stdout",
     "text": [
      "R trans? True\nS trans? True\nR U S trans? False\n"
     ]
    }
   ],
   "source": [
    "D = {1,2,3}\n",
    "R = {(1,2)}\n",
    "S = {(2,3)}\n",
    "print(f\"R trans? {is_transitive(R)}\")\n",
    "print(f\"S trans? {is_transitive(S)}\")\n",
    "print(f\"R U S trans? {is_transitive(R|S)}\")"
   ]
  },
  {
   "cell_type": "code",
   "execution_count": 8,
   "metadata": {},
   "outputs": [
    {
     "output_type": "stream",
     "name": "stdout",
     "text": [
      "{(0, 2), (1, 2), (1, 0), (3, 2), (0, 3), (2, 0)}\n{(0, 0), (3, 0), (2, 3), (3, 3), (2, 2), (1, 3)}\n\n[(0, 0), (0, 2), (0, 3), (1, 0), (1, 2), (1, 3), (2, 0), (2, 2), (2, 3), (3, 0), (3, 2), (3, 3)]\n"
     ]
    }
   ],
   "source": [
    "T = {(0,2), (1,0), (0,3), (3,2), (1,2), (2,0)}\n",
    "Tt = create_transitive_closure(T.copy())\n",
    "print(T)\n",
    "print(Tt-T)\n",
    "print()\n",
    "print(sorted(list(Tt)))"
   ]
  },
  {
   "cell_type": "code",
   "execution_count": 3,
   "metadata": {},
   "outputs": [
    {
     "output_type": "stream",
     "name": "stdout",
     "text": [
      "R1 symmetric? False, antisymmetric? False\nR2 symmetric? True, antisymmetric? False\nR3 symmetric? True, antisymmetric? False\nR4 symmetric? False, antisymmetric? True\nR5 symmetric? True, antisymmetric? False\nR6 symmetric? False, antisymmetric? False\n\nR1 transitive? True\nR2 transitive? True\nR3 transitive? False\nR4 transitive? False\nR5 transitive? True\nR6 transitive? False\n\n"
     ]
    }
   ],
   "source": [
    "R = [\n",
    "    {(2,2),(2,3),(2,4),(3,2),(3,3),(3,4)}, \\\n",
    "    {(1,1),(1,2),(2,1),(2,2),(3,3),(4,4)}, \\\n",
    "    {(2,4),(4,2)}, \\\n",
    "    {(1,2),(2,3),(3,4)}, \\\n",
    "    {(1,1),(2,2),(3,3),(4,4)}, \\\n",
    "    {(1,3),(1,4),(2,3),(2,4),(3,1),(3,4)}, \\\n",
    "]\n",
    "for i, r in enumerate(R):\n",
    "    print(f\"R{i+1} symmetric? {is_symmetric(r)}, antisymmetric? {is_antisymmetric(r)}\")\n",
    "\n",
    "print()\n",
    "\n",
    "for i, r in enumerate(R):\n",
    "    print(f\"R{i+1} transitive? {is_transitive(r)}\")\n",
    "\n",
    "print()\n",
    "\n",
    "# for i, r in enumerate(R):\n",
    "#     print(f\"R{i+1} reflexive? {is_reflexive(r)}\")\n"
   ]
  },
  {
   "cell_type": "code",
   "execution_count": 4,
   "metadata": {},
   "outputs": [
    {
     "output_type": "execute_result",
     "data": {
      "text/plain": [
       "'{(8, p, r), (8, p, v), (5, p, r), (8, q, v), (5, p, v), (8, q, r), (5, q, r), (5, q, v)}'"
      ]
     },
     "metadata": {},
     "execution_count": 4
    }
   ],
   "source": [
    "str(cartesian_product([{5,8}, {'p','q'}, {'r','v'}], print_res=True)).replace(\"'\", \"\")"
   ]
  },
  {
   "cell_type": "code",
   "execution_count": 3,
   "metadata": {
    "tags": []
   },
   "outputs": [
    {
     "output_type": "stream",
     "name": "stdout",
     "text": [
      "((P→(Q^R))→((P^Q)vR)) \n\n{P, Q, R}, result\n--------------------\n{T, T, T}, True\n{T, T, F}, True\n{T, F, T}, True\n{T, F, F}, True\n{F, T, T}, True\n{F, T, F}, False\n{F, F, T}, True\n{F, F, F}, False\n"
     ]
    }
   ],
   "source": [
    "# eq = Equation(\"[(P∧R)→Q]≡[P→(R→Q)]\")\n",
    "eq = Equation(\"[P⟹(Q∧R)]⟹[(P∧Q)∨R]\")\n",
    "print(eq, '\\n')\n",
    "lt = eq.get_logic_table(print_res = False)\n",
    "print_logic_table(lt, order=\"PQR\")#, reverse_scores=True)\n"
   ]
  },
  {
   "cell_type": "code",
   "execution_count": 4,
   "metadata": {},
   "outputs": [
    {
     "output_type": "execute_result",
     "data": {
      "text/plain": [
       "{(False, False, False),\n",
       " (False, False, True),\n",
       " (False, True, False),\n",
       " (False, True, True),\n",
       " (True, False, False),\n",
       " (True, False, True),\n",
       " (True, True, False),\n",
       " (True, True, True)}"
      ]
     },
     "metadata": {},
     "execution_count": 4
    }
   ],
   "source": [
    "cartesian_product([{True, False},{True, False},{True, False}])"
   ]
  },
  {
   "cell_type": "code",
   "execution_count": 5,
   "metadata": {},
   "outputs": [
    {
     "output_type": "stream",
     "name": "stdout",
     "text": [
      "((P^Q^R)v(~P^~Q^~R)) \n\n{P, Q, R}, result\n--------------------\n{T, T, T}, True\n{T, T, F}, False\n{T, F, T}, False\n{T, F, F}, False\n{F, T, T}, False\n{F, T, F}, False\n{F, F, T}, False\n{F, F, F}, True\n"
     ]
    }
   ],
   "source": [
    "# eq = Equation(\"p↔q\")\n",
    "eq = Equation(\"(P ᴧ Q ᴧ R) v (~P ᴧ ~Q ᴧ ~R)\")\n",
    "print(eq, '\\n')\n",
    "lt = eq.get_logic_table(print_res = False)\n",
    "print_logic_table(lt, order=\"PQR\")#, reverse_scores=True)"
   ]
  },
  {
   "cell_type": "code",
   "execution_count": 6,
   "metadata": {},
   "outputs": [
    {
     "output_type": "execute_result",
     "data": {
      "text/plain": [
       "'11011'"
      ]
     },
     "metadata": {},
     "execution_count": 6
    }
   ],
   "source": [
    "bitwise_evaluate(\"(11011∨01010)∧(10001∨11011)\")"
   ]
  },
  {
   "cell_type": "code",
   "execution_count": 7,
   "metadata": {},
   "outputs": [
    {
     "output_type": "execute_result",
     "data": {
      "text/plain": [
       "{('a', 1, False),\n",
       " ('a', 1, True),\n",
       " ('a', 2, False),\n",
       " ('a', 2, True),\n",
       " ('a', 3, False),\n",
       " ('a', 3, True),\n",
       " ('b', 1, False),\n",
       " ('b', 1, True),\n",
       " ('b', 2, False),\n",
       " ('b', 2, True),\n",
       " ('b', 3, False),\n",
       " ('b', 3, True)}"
      ]
     },
     "metadata": {},
     "execution_count": 7
    }
   ],
   "source": [
    "cartesian_product([['a','b'], [1,2,3], [True, False]], True)"
   ]
  },
  {
   "cell_type": "code",
   "execution_count": 8,
   "metadata": {},
   "outputs": [
    {
     "output_type": "execute_result",
     "data": {
      "text/plain": [
       "defaultdict(<function helpful_functions.get_prime_factors.<locals>.<lambda>()>,\n",
       "            {19: 1, 17: 1, 7: 1, 2: 1})"
      ]
     },
     "metadata": {},
     "execution_count": 8
    }
   ],
   "source": [
    "get_prime_factors(4522)"
   ]
  },
  {
   "cell_type": "code",
   "execution_count": 9,
   "metadata": {},
   "outputs": [
    {
     "output_type": "stream",
     "name": "stdout",
     "text": [
      "x_1: 0\nx_2: 4\nx_3: 3\nx_4: 2\nx_5: 1\nx_6: 0\n"
     ]
    }
   ],
   "source": [
    "def step(x):\n",
    "    return (6*x + 9) % 5\n",
    "\n",
    "x = 1\n",
    "for i in range(6):\n",
    "    x = step(x)\n",
    "    print(f\"x_{i+1}: {x}\")"
   ]
  },
  {
   "cell_type": "code",
   "execution_count": 10,
   "metadata": {},
   "outputs": [
    {
     "output_type": "stream",
     "name": "stdout",
     "text": [
      "M*7\n149\n6\n"
     ]
    }
   ],
   "source": [
    "digits = \"742123M127\"\n",
    "total = 0\n",
    "for i, d in enumerate(digits):\n",
    "    try:\n",
    "        n = int(d)\n",
    "    except ValueError:\n",
    "        print(f\"{d}*{i+1}\")\n",
    "        n = 0\n",
    "    total += (i+1) * n\n",
    "print(total)\n",
    "print(total % 11)\n",
    "\n",
    "# 6 + M*7 = 11*n\n",
    "# 6+7*7\n",
    "# 825 x 63\n",
    "# (8*9*9 + 2*9 + 5) x (6*9 + 3)\n",
    "# (8*9*9 + 2*9 + 5) x (6*9) + (8*9*9 + 2*9 + 5) x (3)\n",
    "# (8*6*9*9*9 + 2*6*9*9 + 5*6*9) + (8*9*9 + 2*9 + 5) x (3)\n",
    "# (8*6*9*9*9 + 2*6*9*9 + 5*6*9) + (8*3*9*9 + 2*3*9 + 5*3)\n",
    "# (53*9*9*9 + 13*9*9 + 33*9) + (26*9*9 + 6*9 + 16)\n",
    "# (53000 + 1300 + 330) + (2600 + 60 + 16)\n",
    "# (54630) + (2676)\n",
    "# 57416"
   ]
  },
  {
   "cell_type": "code",
   "execution_count": 11,
   "metadata": {},
   "outputs": [
    {
     "output_type": "stream",
     "name": "stdout",
     "text": [
      "n 38760 4\nd 5\nn 38760 3\nd 8\nn 5955 2\nd 1\nn 123 1\nd 4\nn 42 0\nd 6\n680\n57\n38760\n"
     ]
    },
    {
     "output_type": "execute_result",
     "data": {
      "text/plain": [
       "8"
      ]
     },
     "metadata": {},
     "execution_count": 11
    }
   ],
   "source": [
    "n = 38760\n",
    "prev = 0\n",
    "for i in range(4,-1,-1):\n",
    "    print(\"n\", n, i)\n",
    "    n -= prev\n",
    "    d = n // (9**i)\n",
    "    prev = d * (9**i)\n",
    "    print(\"d\", d)\n",
    "print(8*9*9 + 3*9 + 5)\n",
    "print(6*9 + 3)\n",
    "print((8*9*9 + 3*9 + 5) * (6*9 + 3))\n",
    "7*1+1"
   ]
  },
  {
   "cell_type": "code",
   "execution_count": 12,
   "metadata": {},
   "outputs": [
    {
     "output_type": "stream",
     "name": "stdout",
     "text": [
      "LFIC\n"
     ]
    },
    {
     "output_type": "execute_result",
     "data": {
      "text/plain": [
       "{5: 'A',\n",
       " 12: 'B',\n",
       " 19: 'C',\n",
       " 0: 'D',\n",
       " 7: 'E',\n",
       " 14: 'F',\n",
       " 21: 'G',\n",
       " 2: 'H',\n",
       " 9: 'I',\n",
       " 16: 'J',\n",
       " 23: 'K',\n",
       " 4: 'L',\n",
       " 11: 'M',\n",
       " 18: 'N',\n",
       " 25: 'O',\n",
       " 6: 'P',\n",
       " 13: 'Q',\n",
       " 20: 'R',\n",
       " 1: 'S',\n",
       " 8: 'T',\n",
       " 15: 'U',\n",
       " 22: 'V',\n",
       " 3: 'W',\n",
       " 10: 'X',\n",
       " 17: 'Y',\n",
       " 24: 'Z'}"
      ]
     },
     "metadata": {},
     "execution_count": 12
    }
   ],
   "source": [
    "msg = \"MATH\"\n",
    "letter_vals = {l:i for i,l in enumerate(\"ABCDEFGHIJKLMNOPQRSTUVWXYZ\")}\n",
    "val_letters = {i:l for i,l in enumerate(\"ABCDEFGHIJKLMNOPQRSTUVWXYZ\")}\n",
    "\n",
    "def encrypt_letter(letter):\n",
    "    return (7 * letter_vals[letter] + 5) % 26\n",
    "\n",
    "enc_val_to_letter = dict()\n",
    "for l in \"ABCDEFGHIJKLMNOPQRSTUVWXYZ\":\n",
    "    enc_val_to_letter[encrypt_letter(l)] = l\n",
    "\n",
    "enc_msg = []\n",
    "for letter in msg:\n",
    "    enc_msg.append(val_letters[encrypt_letter(letter)])\n",
    "\n",
    "print(\"\".join(enc_msg))\n",
    "\n",
    "enc_val_to_letter"
   ]
  },
  {
   "cell_type": "code",
   "execution_count": 29,
   "metadata": {},
   "outputs": [
    {
     "output_type": "execute_result",
     "data": {
      "text/plain": [
       "17"
      ]
     },
     "metadata": {},
     "execution_count": 29
    }
   ],
   "source": [
    "gcd(357, 221)"
   ]
  },
  {
   "cell_type": "code",
   "execution_count": 31,
   "metadata": {},
   "outputs": [
    {
     "output_type": "execute_result",
     "data": {
      "text/plain": [
       "3097"
      ]
     },
     "metadata": {},
     "execution_count": 31
    }
   ],
   "source": [
    "lcm(19,163)"
   ]
  },
  {
   "cell_type": "code",
   "execution_count": 24,
   "metadata": {},
   "outputs": [],
   "source": [
    "def mgcd(a, b):\n",
    "    print(\"a,b\", a,b)\n",
    "    if b > a: return mgcd(b, a) # b must be less than a\n",
    "    elif b == 0: return a\n",
    "    # q = a // b\n",
    "    r = a % b\n",
    "    print(\"r\", r)\n",
    "    return mgcd(b, r)"
   ]
  },
  {
   "cell_type": "code",
   "execution_count": 27,
   "metadata": {},
   "outputs": [
    {
     "output_type": "stream",
     "name": "stdout",
     "text": [
      "a,b 63 10\nr 3\na,b 10 3\nr 1\na,b 3 1\nr 0\na,b 1 0\n"
     ]
    },
    {
     "output_type": "execute_result",
     "data": {
      "text/plain": [
       "1"
      ]
     },
     "metadata": {},
     "execution_count": 27
    }
   ],
   "source": [
    "mgcd(63,10)"
   ]
  },
  {
   "cell_type": "code",
   "execution_count": 7,
   "metadata": {},
   "outputs": [
    {
     "output_type": "stream",
     "name": "stdout",
     "text": [
      "75\n62\n30\n-335\n"
     ]
    }
   ],
   "source": [
    "s = sum(3*j-1 for j in range(2, 7+1))\n",
    "print(s)\n",
    "s = sum(i*(i-1) for i in range(4, 6+1))\n",
    "print(s)\n",
    "s = sum((2*n)*(-1)**n for n in range(0, 30+1))\n",
    "print(s)\n",
    "s = sum((-1)**n * (2*n**2 + 8*n - 7) for n in range(9, 13+1))\n",
    "print(s)"
   ]
  },
  {
   "cell_type": "code",
   "execution_count": 3,
   "metadata": {},
   "outputs": [
    {
     "output_type": "stream",
     "name": "stdout",
     "text": [
      "4\n4\n2\n4\n0\n65536\n"
     ]
    }
   ],
   "source": [
    "def Ackermann(m,n):\n",
    "    if m == 0: return 2*n\n",
    "    elif m >= 1 and n == 0: return 0\n",
    "    elif m >= 1 and n == 1: return 2\n",
    "    elif m >= 1 and n >= 2: return Ackermann(m-1, Ackermann(m, n-1))\n",
    "    else: raise ValueError(\"Invalid input: m & n must be Naturals\")\n",
    "\n",
    "print(Ackermann(2,2))\n",
    "print(Ackermann(0,2))\n",
    "print(Ackermann(3,1))\n",
    "print(Ackermann(1,2))\n",
    "print(Ackermann(2,0))\n",
    "print(Ackermann(3,3))"
   ]
  },
  {
   "cell_type": "code",
   "execution_count": 2,
   "metadata": {},
   "outputs": [
    {
     "output_type": "stream",
     "name": "stdout",
     "text": [
      "-7 73 5033 25310953\n"
     ]
    }
   ],
   "source": [
    "def f(n):\n",
    "    if n == 0: return 3\n",
    "    p = f(n-1)\n",
    "    return p*p - 4*p - 4\n",
    "print(f(1), f(2), f(3), f(4))"
   ]
  }
 ]
}