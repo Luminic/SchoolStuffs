{
 "metadata": {
  "language_info": {
   "codemirror_mode": {
    "name": "ipython",
    "version": 3
   },
   "file_extension": ".py",
   "mimetype": "text/x-python",
   "name": "python",
   "nbconvert_exporter": "python",
   "pygments_lexer": "ipython3",
   "version": "3.8.6-final"
  },
  "orig_nbformat": 2,
  "kernelspec": {
   "name": "Python 3.8.6 64-bit",
   "display_name": "Python 3.8.6 64-bit",
   "metadata": {
    "interpreter": {
     "hash": "767d51c1340bd893661ea55ea3124f6de3c7a262a8b4abca0554b478b1e2ff90"
    }
   }
  }
 },
 "nbformat": 4,
 "nbformat_minor": 2,
 "cells": [
  {
   "cell_type": "code",
   "execution_count": 1,
   "metadata": {},
   "outputs": [],
   "source": [
    "from uncertainty import *\n",
    "UN = UncertainNumber"
   ]
  },
  {
   "cell_type": "code",
   "execution_count": 2,
   "metadata": {},
   "outputs": [
    {
     "output_type": "stream",
     "name": "stdout",
     "text": [
      "12 ±2\n73.34 ±0.11\n-3 ±1\n2.8 ±1\n"
     ]
    }
   ],
   "source": [
    "# Addition operations\n",
    "print(UN(10, 1) + UN(2,1))\n",
    "print(UN(12.34, 0.01) + UN(61,0.1))\n",
    "print(2 + UN(-5,1))\n",
    "print(UN(-2.2,1) + 5)"
   ]
  },
  {
   "cell_type": "code",
   "execution_count": 3,
   "metadata": {},
   "outputs": [
    {
     "output_type": "stream",
     "name": "stdout",
     "text": [
      "8 ±2\n-48.66 ±0.11\n7 ±1\n-7.2 ±1\n"
     ]
    }
   ],
   "source": [
    "# Substraction operations\n",
    "print(UN(10, 1) - UN(2,1))\n",
    "print(UN(12.34, 0.01) - UN(61,0.1))\n",
    "print(2 - UN(-5,1))\n",
    "print(UN(-2.2,1) - 5)"
   ]
  },
  {
   "cell_type": "code",
   "execution_count": 4,
   "metadata": {},
   "outputs": [
    {
     "output_type": "stream",
     "name": "stdout",
     "text": [
      "20 ±12.0\n752.74 ±1.844\n-10 ±2.0\n-11.0 ±5.0\n"
     ]
    }
   ],
   "source": [
    "# Multiplication operations\n",
    "print(UN(10, 1) * UN(2,1))\n",
    "print(UN(12.34, 0.01) * UN(61,0.1))\n",
    "print(2 * UN(-5,1))\n",
    "print(UN(-2.2,1) * 5)"
   ]
  },
  {
   "cell_type": "code",
   "execution_count": 5,
   "metadata": {},
   "outputs": [
    {
     "output_type": "stream",
     "name": "stdout",
     "text": [
      "5.0 ±3.0\n0.2022950819672131 ±0.0004955657081429723\n-0.4 ±2.0\n-0.44000000000000006 ±0.2\n"
     ]
    }
   ],
   "source": [
    "# Division operations\n",
    "print(UN(10, 1) / UN(2,1))\n",
    "print(UN(12.34, 0.01) / UN(61,0.1))\n",
    "print(2 / UN(-5,1))\n",
    "print(UN(-2.2,1) / 5)"
   ]
  },
  {
   "cell_type": "code",
   "execution_count": 6,
   "metadata": {},
   "outputs": [
    {
     "output_type": "stream",
     "name": "stdout",
     "text": [
      "100 ±1231\n3.717275433175227e+66 ±1.3044285561602336e+66\n0.03125 ±0.03125\n-51.53632000000002 ±284.00800000000004\n"
     ]
    }
   ],
   "source": [
    "# Exponents\n",
    "print(UN(10, 1) ** UN(2,1))\n",
    "print(UN(12.34, 0.01) ** UN(61,0.1))\n",
    "print(2 ** UN(-5,1))\n",
    "print(UN(-2.2,1) ** 5)"
   ]
  },
  {
   "cell_type": "code",
   "execution_count": null,
   "metadata": {},
   "outputs": [],
   "source": []
  }
 ]
}