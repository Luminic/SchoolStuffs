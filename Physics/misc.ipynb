{
 "metadata": {
  "language_info": {
   "codemirror_mode": {
    "name": "ipython",
    "version": 3
   },
   "file_extension": ".py",
   "mimetype": "text/x-python",
   "name": "python",
   "nbconvert_exporter": "python",
   "pygments_lexer": "ipython3",
   "version": "3.8.6-final"
  },
  "orig_nbformat": 2,
  "kernelspec": {
   "name": "python3",
   "display_name": "Python 3.8.6 64-bit",
   "metadata": {
    "interpreter": {
     "hash": "767d51c1340bd893661ea55ea3124f6de3c7a262a8b4abca0554b478b1e2ff90"
    }
   }
  }
 },
 "nbformat": 4,
 "nbformat_minor": 2,
 "cells": [
  {
   "cell_type": "code",
   "execution_count": 1,
   "metadata": {},
   "outputs": [],
   "source": [
    "from uncertainty import *\n",
    "UN = UncertainNumber\n",
    "def give_uncertainty(vals:list, uncertainty):\n",
    "    \"\"\"\n",
    "    modifies `vals` to be uncertain numbers with `UN(val, uncertainty)`\n",
    "    also returns vals\n",
    "    \"\"\"\n",
    "    for i, v in enumerate(vals):\n",
    "        vals[i] = UN(v, uncertainty)\n",
    "    return vals"
   ]
  },
  {
   "cell_type": "code",
   "execution_count": 8,
   "metadata": {},
   "outputs": [
    {
     "output_type": "stream",
     "name": "stdout",
     "text": [
      "m_pc1 0.039755351681957186 ±0.005316921508664629\nm_pc2 0.039959225280326194 ±0.004203792048929664\nm_pap 0.007951070336391437 ±0.0009997757390417942\nm_bal 0.09989806320081548 ±0.010809174311926606\n"
     ]
    }
   ],
   "source": [
    "g = UN(9.81, 0.01)\n",
    "\n",
    "pc1 = (UN(1, 0.01), UN(0.39, 0.01))\n",
    "pap = (UN(5, 0.01), UN(0.39, 0.01))\n",
    "pc2 = (UN(5, 0.01), UN(1.96, 0.01))\n",
    "bal = (UN(2, 0.01), UN(1.96, 0.01))\n",
    "\n",
    "def get_mass(potential_energy, experimental_height):\n",
    "    return (1/g) * potential_energy / experimental_height\n",
    "\n",
    "m_pc1 = get_mass(pc1[1], pc1[0])\n",
    "m_pc2 = get_mass(pc2[1], pc2[0])\n",
    "m_pap = get_mass(pap[1], pap[0])\n",
    "m_bal = get_mass(bal[1], bal[0])\n",
    "print(\"m_pc1\", m_pc1)\n",
    "print(\"m_pc2\", m_pc2)\n",
    "print(\"m_pap\", m_pap)\n",
    "print(\"m_bal\", m_bal)"
   ]
  },
  {
   "cell_type": "code",
   "execution_count": 24,
   "metadata": {},
   "outputs": [
    {
     "output_type": "stream",
     "name": "stdout",
     "text": [
      "2.9396484282139173 ±0.2807698797568057\n11.697671276068649 ±1.2104353653505067\n0.41345388941266503 ±0.06140567791564434\n0.23044561618846002 ±0.034978844556303304\n"
     ]
    }
   ],
   "source": [
    "g = UN(9.8, 0.1)\n",
    "\n",
    "def get_spring_const(mass, y, d):\n",
    "    return 2*mass*g*y / d**2\n",
    "\n",
    "print(get_spring_const(UN(0.100, 0.005), UN(0.347, 0.005), UN(0.481, 0.005)))\n",
    "sc = get_spring_const(UN(0.100, 0.005), UN(0.530, 0.005), UN(0.298, 0.005))\n",
    "print(sc)\n",
    "\n",
    "def get_mass(k, y, d):\n",
    "    return k*d**2 / (2 * g * y)\n",
    "\n",
    "print(get_mass(sc, UN(0.348, 0.005), UN(0.491, 0.005)))\n",
    "print(get_mass(sc, UN(0.400, 0.005), UN(0.393, 0.005)))"
   ]
  },
  {
   "cell_type": "code",
   "execution_count": 11,
   "metadata": {},
   "outputs": [
    {
     "output_type": "stream",
     "name": "stdout",
     "text": [
      "Trial 0 v1: -3.3333333333333335 ±0.41111111111111115\nTrial 0 v2: 6.666666666666667 ±1.177777777777778\n\nTrial 1 v1: 3.3333333333333335 ±0.9222222222222223\nTrial 1 v2: 13.333333333333334 ±1.688888888888889\n\nTrial 2 v: 5.0 ±0.55\n\nTrial 3 v: 3.3333333333333335 ±0.588888888888889\n\nTrial 4 v: 6.666666666666667 ±0.8444444444444446\n\nTrial 5 v: 8.333333333333334 ±1.1555555555555557\n\nTrial 6 v: 5.0 ±0.8666666666666667\n\n"
     ]
    }
   ],
   "source": [
    "cart1_masses = [1, 2, 2, 1, 2, 2, 2]\n",
    "cart1_velocities = [10]*7\n",
    "cart2_masses = [2, 1, 2, 2, 1, 1, 1]\n",
    "cart2_velocities = [0,0,0,0,0,5,-5]\n",
    "\n",
    "give_uncertainty(cart1_masses, 0.1)\n",
    "give_uncertainty(cart1_velocities, 0.1)\n",
    "give_uncertainty(cart2_masses, 0.1)\n",
    "give_uncertainty(cart2_velocities, 0.1)\n",
    "    \n",
    "def elastic_final_v1(m1, m2, v1, v2):\n",
    "    return (2*m2*v2 + (m1 - m2)*v1) / (m1 + m2)\n",
    "\n",
    "def perfect_inelastic_final_v(m1, m2, v1, v2):\n",
    "    return (m1*v1 + m2*v2) / (m1 + m2)\n",
    "\n",
    "for i in range(2):\n",
    "    print(f\"Trial {i} v1:\", elastic_final_v1(cart1_masses[i], cart2_masses[i], cart1_velocities[i], cart2_velocities[i]))\n",
    "    print(f\"Trial {i} v2:\", elastic_final_v1(cart2_masses[i], cart1_masses[i], cart2_velocities[i], cart1_velocities[i]))\n",
    "    print()\n",
    "\n",
    "for i in range(2, len(cart1_masses)):\n",
    "    print(f\"Trial {i} v:\", perfect_inelastic_final_v(cart1_masses[i], cart2_masses[i], cart1_velocities[i], cart2_velocities[i]))\n",
    "    print()"
   ]
  },
  {
   "cell_type": "code",
   "execution_count": 6,
   "metadata": {},
   "outputs": [
    {
     "output_type": "execute_result",
     "data": {
      "text/plain": [
       "[UncertainNumber(1.67, 0.01),\n",
       " UncertainNumber(2.5, 0.01),\n",
       " UncertainNumber(5, 0.01),\n",
       " UncertainNumber(10, 0.01)]"
      ]
     },
     "metadata": {},
     "execution_count": 6
    }
   ],
   "source": [
    "moment_of_inertias = [144, 64, 16, 4]\n",
    "angular_speeds = [1.67, 2.5, 5, 10]\n",
    "give_uncertainty(moment_of_inertias, 0.01)\n",
    "give_uncertainty(angular_speeds, 0.01)\n"
   ]
  }
 ]
}