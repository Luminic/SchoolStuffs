{
 "metadata": {
  "language_info": {
   "codemirror_mode": {
    "name": "ipython",
    "version": 3
   },
   "file_extension": ".py",
   "mimetype": "text/x-python",
   "name": "python",
   "nbconvert_exporter": "python",
   "pygments_lexer": "ipython3",
   "version": "3.8.6-final"
  },
  "orig_nbformat": 2,
  "kernelspec": {
   "name": "Python 3.8.6 64-bit",
   "display_name": "Python 3.8.6 64-bit",
   "metadata": {
    "interpreter": {
     "hash": "767d51c1340bd893661ea55ea3124f6de3c7a262a8b4abca0554b478b1e2ff90"
    }
   }
  }
 },
 "nbformat": 4,
 "nbformat_minor": 2,
 "cells": [
  {
   "cell_type": "code",
   "execution_count": 2,
   "metadata": {},
   "outputs": [],
   "source": [
    "from uncertainty import *\n",
    "UN = UncertainNumber\n",
    "def give_uncertainty(vals:list, uncertainty):\n",
    "    \"\"\"\n",
    "    modifies `vals` to be uncertain numbers with `UN(val, uncertainty)`\n",
    "    also returns vals\n",
    "    \"\"\"\n",
    "    for i, v in enumerate(vals):\n",
    "        vals[i] = UN(v, uncertainty)\n",
    "    return vals"
   ]
  },
  {
   "cell_type": "code",
   "execution_count": 3,
   "metadata": {},
   "outputs": [
    {
     "output_type": "stream",
     "name": "stdout",
     "text": [
      "0.1814864864864865 ±0.020736303871439012\n0.18095238095238095 ±0.010961451247165532\n0.18083832335329342 ±0.004999031876367027\n0.2421875 ±0.0281591796875\n0.2408791208791209 ±0.01491075957010023\n0.240625 ±0.006830729166666667\n0.32 ±0.037892857142857145\n0.32050632911392407 ±0.020335523153340813\n0.3204 ±0.009371200000000001\n"
     ]
    }
   ],
   "source": [
    "masses = [1, 2, 5, 1, 2, 5, 1, 2, 5]\n",
    "final_speeds = [134.3, 95.0, 60.4, 155.0, 109.6, 69.3, 179.2, 126.6, 80.1]\n",
    "times = [7.4, 10.5, 16.7, 6.4, 9.1, 14.4, 5.6, 7.9, 12.5]\n",
    "\n",
    "for i, mass in enumerate(masses):\n",
    "    masses[i] = UN(mass, 0.1)\n",
    "\n",
    "for i, speed in enumerate(final_speeds):\n",
    "    final_speeds[i] = UN(speed, 0.1)\n",
    "\n",
    "for i, time in enumerate(times):\n",
    "    times[i] = UN(time, 0.1)\n",
    "\n",
    "accelerations = [final_speeds[i]/times[i] for i in range(len(final_speeds))]\n",
    "\n",
    "# for i in range(len(accelerations)):\n",
    "#     print(f\"{final_speeds[i]} / {times[i]} = {accelerations[i]}\")\n",
    "\n",
    "forces = [masses[i] * accelerations[i] / 100 for i in range(len(accelerations))]\n",
    "\n",
    "for i in range(len(forces)):\n",
    "    print(f\"{forces[i]}\")"
   ]
  },
  {
   "source": [
    "mass_A = UN(2, 0.1)\n",
    "masses_B = [1.7, 2.0, 3.0]\n",
    "\n",
    "for i, m in enumerate(masses_B):\n",
    "    masses_B[i] = UN(m, 0.1)\n",
    "\n",
    "gravity = UN(9.81, 0.01)\n",
    "\n",
    "def grav_force(mass):\n",
    "    return mass * gravity\n",
    "\n",
    "grav_force_A = grav_force(mass_A)\n",
    "print(\"grav_force_A:\", grav_force_A)\n",
    "grav_forces_B = [grav_force(mB) for mB in masses_B]\n",
    "print(\"grav_forces_B:\", \", \".join([str(v) for v in grav_forces_B]))\n",
    "\n",
    "tension = [2 * gravity * mass_A * masses_B[i] / (mass_A + masses_B[i]) for i in range(len(masses_B))]\n",
    "print(\"tension\", \", \".join([str(v) for v in tension]))\n",
    "\n",
    "accelerations_A = [(gravity * mass_A - tens) / mass_A for tens in tension]\n",
    "print(\"acceleration\", \", \".join([str(v) for v in accelerations_A]))"
   ],
   "cell_type": "code",
   "metadata": {},
   "execution_count": 4,
   "outputs": [
    {
     "output_type": "stream",
     "name": "stdout",
     "text": [
      "grav_force_A: 19.62 ±1.0010000000000001\ngrav_forces_B: 16.677 ±0.9980000000000001, 19.62 ±1.0010000000000001, 29.43 ±1.0110000000000001\ntension 18.02918918918919 ±2.9549291453615782, 19.62 ±2.9630000000000005, 23.544 ±2.92776\nacceleration 0.7954054054054058 ±2.017734842951059, 0.0 ±0.0, -1.9619999999999997 ±1.8662800000000002\n"
     ]
    }
   ]
  },
  {
   "cell_type": "code",
   "execution_count": 6,
   "metadata": {},
   "outputs": [
    {
     "output_type": "stream",
     "name": "stdout",
     "text": [
      "exp_accel 0.7974683544303797 ±0.011376381990065692, 0.0 ±0.0, -1.9603960396039604 ±0.009508871679247131\n"
     ]
    }
   ],
   "source": [
    "exp_time_elapsed = [1.58, 2.82, 1.01]\n",
    "fin_vel = [1.26, 0.0, -1.98]\n",
    "\n",
    "for i, v in enumerate(exp_time_elapsed):\n",
    "    exp_time_elapsed[i] = UN(v, 0.01)\n",
    "\n",
    "for i, v in enumerate(fin_vel):\n",
    "    fin_vel[i] = UN(v, 0.01)\n",
    "\n",
    "exp_accel = [fin_vel[i]/exp_time_elapsed[i] for i in range(len(exp_time_elapsed))]\n",
    "print(\"exp_accel\", \", \".join([str(v) for v in exp_accel]))"
   ]
  },
  {
   "cell_type": "code",
   "execution_count": 11,
   "metadata": {},
   "outputs": [
    {
     "output_type": "stream",
     "name": "stdout",
     "text": [
      "Force gravity m2: 98.10000000000001 ±1.0810000000000002\nMass m1 w/ a=30d: 4.999999999999999 ±0.06019367991845055\nMass m1 w/ a=45d: 7.071067811865475 ±0.08512671850981779\n"
     ]
    }
   ],
   "source": [
    "import math\n",
    "m2 = UN(10, 0.1)\n",
    "F_G_m2 = gravity * m2\n",
    "print(\"Force gravity m2:\", F_G_m2)\n",
    "m1_a30 = math.sin(math.pi/6)*F_G_m2/gravity\n",
    "print(\"Mass m1 w/ a=30d:\", m1_a30)\n",
    "m1_a45 = math.sin(math.pi/4)*F_G_m2/gravity\n",
    "print(\"Mass m1 w/ a=45d:\", m1_a45)"
   ]
  },
  {
   "cell_type": "code",
   "execution_count": 23,
   "metadata": {},
   "outputs": [
    {
     "output_type": "stream",
     "name": "stdout",
     "text": [
      "\nObject weights\n490.00000000000006 ±5.98\n882.0000000000001 ±9.98\n1274.0 ±13.979999999999999\n1470.0 ±15.979999999999999\n1862.0000000000002 ±19.98\n\nStatic friction coefficients\n0.2571428571428571 ±0.005179008746355684\n0.25623582766439906 ±0.004033144625953177\n0.25588697017268447 ±0.0035928570196343238\n0.25578231292517006 ±0.003460817252070896\n0.2556390977443609 ±0.0032801660434652684\n\nAverage static friction coefficient\n0.2561374131298943 ±0.00390919873749587\n\nStd.Dev. of static friction coefficient\nSquared Difference Sum: 1.0109176632027784e-06 ±0.00010087088287594024, 9.68542060178956e-09 ±6.46441021529048e-05, 6.272167481600414e-08 ±6.003851464102771e-05, 1.2609615539519336e-07 ±5.955132405990188e-05, 2.48318223459311e-07 ±5.885210811885433e-05\nStd. Dev.: 0.0006036843416627345 ±0.009273037957549685\n\nAverage static friction coefficient: 0.2561374131298943 ±0.0006036843416627345\n\nF_N for Mystery Box: 979.9427460943045 ±6.213758748066924\n\ntotal mass: 99.99415776472495 ±1.654405563728512\n\nmystery box mass: 49.994157764724946 ±1.754405563728512\n"
     ]
    }
   ],
   "source": [
    "# Lab 5\n",
    "g = UN(9.8, 0.1)\n",
    "obj_masses = [50, 90, 130, 150, 190]\n",
    "max_s_ffs = [126, 226, 326, 376, 476] # Max static friction forces\n",
    "\n",
    "give_uncertainty(obj_masses, 0.1)\n",
    "give_uncertainty(max_s_ffs, 1)\n",
    "\n",
    "obj_weights = [obj*g for obj in obj_masses]\n",
    "\n",
    "print(\"\\nObject weights\")\n",
    "for obj in obj_weights:\n",
    "    print(obj)\n",
    "\n",
    "# Static friction coefficients\n",
    "sfcs = [max_s_ffs[i] / obj_weights[i] for i in range(len(max_s_ffs))]\n",
    "\n",
    "print(\"\\nStatic friction coefficients\")\n",
    "for sfc in sfcs:\n",
    "    print(sfc)\n",
    "\n",
    "print(\"\\nAverage static friction coefficient\")\n",
    "sfc_av = sum(sfcs)/len(sfcs)\n",
    "print(sfc_av)\n",
    "\n",
    "print(\"\\nStd.Dev. of static friction coefficient\")\n",
    "squared_diff_sum = [(sfcs[i]-sfc_av)**2 for i in range(len(sfcs))]\n",
    "print(\"Squared Difference Sum:\", \", \".join((str(sqds) for sqds in squared_diff_sum)))\n",
    "squared_diff_sum = sum(squared_diff_sum)\n",
    "std_dev = (squared_diff_sum/4)**(1/2)\n",
    "print(\"Std. Dev.:\", std_dev)\n",
    "\n",
    "sfc_av = UN(sfc_av.n, std_dev.n)\n",
    "print(\"\\nAverage static friction coefficient:\", sfc_av)\n",
    "\n",
    "F_N = UN(251,1)/sfc_av\n",
    "print(\"\\nF_N for Mystery Box:\", F_N)\n",
    "\n",
    "total_mass_box_and_mystery_box = F_N / g\n",
    "print(\"\\ntotal mass:\", total_mass_box_and_mystery_box)\n",
    "\n",
    "mystery_box_mass = total_mass_box_and_mystery_box - UN(50, 0.1)\n",
    "print(\"\\nmystery box mass:\", mystery_box_mass)\n"
   ]
  }
 ]
}