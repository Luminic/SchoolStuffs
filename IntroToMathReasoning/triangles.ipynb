{
 "metadata": {
  "language_info": {
   "codemirror_mode": {
    "name": "ipython",
    "version": 3
   },
   "file_extension": ".py",
   "mimetype": "text/x-python",
   "name": "python",
   "nbconvert_exporter": "python",
   "pygments_lexer": "ipython3",
   "version": "3.9.1-final"
  },
  "orig_nbformat": 2,
  "kernelspec": {
   "name": "python38364bit92426f0431d04e3a965ee09a08f8f37f",
   "display_name": "Python 3.8.3 64-bit",
   "language": "python"
  }
 },
 "nbformat": 4,
 "nbformat_minor": 2,
 "cells": [
  {
   "cell_type": "code",
   "execution_count": 1,
   "metadata": {},
   "outputs": [],
   "source": [
    "class Triangle:\n",
    "    def __init__(self):\n",
    "        self.verts = ['A','B','C']\n",
    "\n",
    "    def __str__(self):\n",
    "        return \"\".join(self.verts)\n",
    "    \n",
    "    def rotate(self):\n",
    "        self.verts = [self.verts[-1]] + self.verts[0:-1]\n",
    "        return self\n",
    "    \n",
    "    def flip(self):\n",
    "        tmp = self.verts[1]\n",
    "        self.verts[1] = self.verts[2]\n",
    "        self.verts[2] = tmp\n",
    "        return self\n",
    "    \n",
    "    def print(self):\n",
    "        print(\"\"\"\n",
    "    0\n",
    "   ,^.\n",
    "  /   \\\\\n",
    " /_____\\\\\n",
    "2       1\"\"\".replace('0', self.verts[0]).replace('1', self.verts[1]).replace('2', self.verts[2]))\n",
    "        return self\n",
    "\n",
    "    def exec_cmds(self, cmds, print_self=True):\n",
    "        for cmd in cmds:\n",
    "            if cmd == 'R':\n",
    "                self.rotate()\n",
    "            elif cmd == 'F':\n",
    "                self.flip()\n",
    "        if (print_self):\n",
    "            self.print()\n",
    "        return self\n",
    "    \n",
    "    def get_basic_transform(self):\n",
    "        possible_transforms = [\"1\", \"R\", \"F\", \"RR\", \"FR\", \"RF\"]\n",
    "        for transform in possible_transforms:\n",
    "            t = Triangle()\n",
    "            t.exec_cmds(transform, False)\n",
    "            if t.verts == self.verts:\n",
    "                return transform\n",
    "        return None"
   ]
  },
  {
   "cell_type": "code",
   "execution_count": 2,
   "metadata": {},
   "outputs": [
    {
     "output_type": "stream",
     "name": "stdout",
     "text": [
      "\n    A\n   ,^.\n  /   \\\n /_____\\\nC       B\nTransform: 1\n\n    C\n   ,^.\n  /   \\\n /_____\\\nB       A\nTransform: R\n\n    A\n   ,^.\n  /   \\\n /_____\\\nB       C\nTransform: F\n\n    B\n   ,^.\n  /   \\\n /_____\\\nA       C\nTransform: RR\n\n    B\n   ,^.\n  /   \\\n /_____\\\nC       A\nTransform: FR\n\n    C\n   ,^.\n  /   \\\n /_____\\\nA       B\nTransform: RF\n"
     ]
    }
   ],
   "source": [
    "t = Triangle()\n",
    "t.exec_cmds(\"\")\n",
    "print(\"Transform: 1\")\n",
    "t = Triangle()\n",
    "t.exec_cmds(\"R\")\n",
    "print(\"Transform: R\")\n",
    "t = Triangle()\n",
    "t.exec_cmds(\"F\")\n",
    "print(\"Transform: F\")\n",
    "t = Triangle()\n",
    "t.exec_cmds(\"RR\")\n",
    "print(\"Transform: RR\")\n",
    "t = Triangle()\n",
    "t.exec_cmds(\"FR\")\n",
    "print(\"Transform: FR\")\n",
    "t = Triangle()\n",
    "t.exec_cmds(\"RF\") # Equal to FRR\n",
    "print(\"Transform: RF\")\n"
   ]
  },
  {
   "cell_type": "code",
   "execution_count": 3,
   "metadata": {},
   "outputs": [
    {
     "output_type": "stream",
     "name": "stdout",
     "text": [
      "\n    A\n   ,^.\n  /   \\\n /_____\\\nC       B\n"
     ]
    },
    {
     "output_type": "execute_result",
     "data": {
      "text/plain": [
       "'1'"
      ]
     },
     "metadata": {},
     "execution_count": 3
    }
   ],
   "source": [
    "t = Triangle()\n",
    "t.exec_cmds(\"RFRF\").get_basic_transform()"
   ]
  },
  {
   "cell_type": "code",
   "execution_count": 4,
   "metadata": {},
   "outputs": [
    {
     "output_type": "stream",
     "name": "stdout",
     "text": [
      "\n    B\n   ,^.\n  /   \\\n /_____\\\nC       A\n"
     ]
    },
    {
     "output_type": "execute_result",
     "data": {
      "text/plain": [
       "<__main__.Triangle at 0x7f29fc991a00>"
      ]
     },
     "metadata": {},
     "execution_count": 4
    }
   ],
   "source": [
    "t = Triangle()\n",
    "t.exec_cmds(\"RFRR\")"
   ]
  },
  {
   "cell_type": "code",
   "execution_count": 7,
   "metadata": {},
   "outputs": [
    {
     "output_type": "stream",
     "name": "stdout",
     "text": [
      "\n    A\n   ,^.\n  /   \\\n /_____\\\nC       B\n\n    A\n   ,^.\n  /   \\\n /_____\\\nC       B\n"
     ]
    },
    {
     "output_type": "execute_result",
     "data": {
      "text/plain": [
       "<__main__.Triangle at 0x7f29fc991b20>"
      ]
     },
     "metadata": {},
     "execution_count": 7
    }
   ],
   "source": [
    "t = Triangle()\n",
    "t.exec_cmds(\"RRRRRR\")\n",
    "t = Triangle()\n",
    "t.exec_cmds(\"\")"
   ]
  }
 ]
}